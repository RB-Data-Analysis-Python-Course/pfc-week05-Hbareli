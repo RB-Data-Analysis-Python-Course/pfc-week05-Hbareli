{
 "cells": [
  {
   "cell_type": "markdown",
   "metadata": {},
   "source": [
    "<img src=\"images/logo.jpg\" style=\"display: block; margin-left: auto; margin-right: auto;\" alt=\"לוגו של מיזם לימוד הפייתון. נחש מצויר בצבעי צהוב וכחול, הנע בין האותיות של שם הקורס: לומדים פייתון. הסלוגן המופיע מעל לשם הקורס הוא מיזם חינמי ללימוד תכנות בעברית.\">"
   ]
  },
  {
   "cell_type": "markdown",
   "metadata": {},
   "source": [
    "# <span style=\"text-align: right; direction: rtl; float: right;\">Generators</span>"
   ]
  },
  {
   "cell_type": "markdown",
   "metadata": {},
   "source": [
    "## <span style=\"text-align: right; direction: rtl; float: right; clear: both;\">הקדמה</span>"
   ]
  },
  {
   "cell_type": "markdown",
   "metadata": {},
   "source": [
    "<p style=\"text-align: right; direction: rtl; float: right; clear: both;\">\n",
    "    הפונקציות שיצרנו עד כה נבנו כך שיחזירו ערך אחד בכל קריאה.<br>\n",
    "    הערך הזה יכול היה להיות מכל טיפוס שהוא: בוליאני, מחרוזת, tuple וכדומה.<br>\n",
    "    אם נרצה להחזיר כמה ערכים יחד, תמיד נוכל להחזיר אותם כרשימה או כ־tuple.<br>\n",
    "    אבל מה קורה כשאנחנו רוצים להחזיר סדרת ערכים גדולה מאוד או אפילו אין־סופית?\n",
    "</p>"
   ]
  },
  {
   "cell_type": "markdown",
   "metadata": {},
   "source": [
    "<p style=\"text-align: right; direction: rtl; float: right; clear: both;\">\n",
    "    למשל:\n",
    "</p>\n",
    "\n",
    "<ul style=\"text-align: right; direction: rtl; float: right; clear: both;\">\n",
    "    <li>הכתובות של כל הדפים הקיימים באינטרנט.</li>\n",
    "    <li>מילות כל השירים שראו אור מאז שנת 1400 לספירה.</li>\n",
    "    <li>כל המספרים השלמים הגדולים מ־0.</li>\n",
    "</ul>"
   ]
  },
  {
   "cell_type": "markdown",
   "metadata": {},
   "source": [
    "<p style=\"text-align: right; direction: rtl; float: right; clear: both;\">\n",
    "    בכלים שיש בידינו כרגע, נמצא שיש בעיה ליצור רשימות כאלו.<br>\n",
    "    עבור רשימות גדולות מאוד – לא יהיה למחשב די זיכרון ולבסוף הוא ייכשל בשמירת ערכים חדשים.<br>\n",
    "    ומה בנוגע לרשימות אין־סופיות? הן... ובכן... אין־סופיות, ולכן מלכתחילה לא נוכל ליצור אותן.\n",
    "</p>"
   ]
  },
  {
   "cell_type": "markdown",
   "metadata": {},
   "source": [
    "## <span style=\"text-align: right; direction: rtl; float: right; clear: both;\">הגדרה</span>"
   ]
  },
  {
   "cell_type": "markdown",
   "metadata": {},
   "source": [
    "<p style=\"text-align: right; direction: rtl; float: right; clear: both;\">\n",
    "    פתרון שמעניין לחשוב עליו הוא \"פונקציה עצלנית\".<br>\n",
    "    אם אנחנו בשום שלב לא יכולים להחזיק בזיכרון המחשב את כל האיברים (כי יש יותר מדי מהם, או כי זו סדרה אין־סופית),<br>\n",
    "    אולי נוכל לשלוח תחילה את הערך הראשון – ואת הערכים שבאים אחריו נשלח רק כשיבקשו אותם מאיתנו.\n",
    "</p>"
   ]
  },
  {
   "cell_type": "markdown",
   "metadata": {},
   "source": [
    "<p style=\"text-align: right; direction: rtl; float: right; clear: both;\">\n",
    "    פונקציה עצלנית שכזו נקראת <dfn>generator</dfn>, ובכל פעם שנבקש ממנה, היא תחזיר לנו איבר יחיד מתוך סדרת ערכים.<br>\n",
    "    תחילה – היא תחזיר רק את הערך הראשון, בלי לחשב את שאר האיברים. אחר כך, באותו אופן, רק את השני, אחר כך רק את השלישי וכן הלאה.<br>\n",
    "    ההבדל העיקרי בין generator לבין פונקציה רגילה, הוא שב־generator נבחר להחזיר את הערכים אחד־אחד ולא תחת מבנה מאוגד.\n",
    "</p>"
   ]
  },
  {
   "cell_type": "markdown",
   "metadata": {},
   "source": [
    "<p style=\"text-align: right; direction: rtl; float: right; clear: both;\">\n",
    "    נסכם: generator היא פונקציה שיוצרת עבורנו בכל פעם ערך אחד, מחזירה אותו, ומחכה עד שנבקש את האיבר הבא.\n",
    "</p>"
   ]
  },
  {
   "cell_type": "markdown",
   "metadata": {},
   "source": [
    "## <span style=\"text-align: right; direction: rtl; float: right; clear: both;\">שימוש</span>"
   ]
  },
  {
   "cell_type": "markdown",
   "metadata": {},
   "source": [
    "### <span style=\"text-align: right; direction: rtl; float: right; clear: both;\">יצירת generator בסיסי</span>"
   ]
  },
  {
   "cell_type": "markdown",
   "metadata": {},
   "source": [
    "<p style=\"text-align: right; direction: rtl; float: right; clear: both;\">\n",
    "    נתחיל בהגדרת generator מטופש למדי:\n",
    "</p>"
   ]
  },
  {
   "cell_type": "code",
   "execution_count": 1,
   "metadata": {},
   "outputs": [],
   "source": [
    "def silly_generator():\n",
    "    a = 1\n",
    "    yield a\n",
    "    b = a + 1\n",
    "    yield b\n",
    "    c = [1, 2, 3]\n",
    "    yield c"
   ]
  },
  {
   "cell_type": "markdown",
   "metadata": {},
   "source": [
    "<p style=\"text-align: right; direction: rtl; float: right; clear: both;\">\n",
    "    מעניין! זה נראה ממש כמו פונקציה. נקרא למבנה הזה שיצרנו \"<dfn>פונקציית ה־generator</dfn>\".<br>\n",
    "    אבל מהו ה־<code>yield</code> המוזר הזה שנמצא שם?\n",
    "</p>"
   ]
  },
  {
   "cell_type": "markdown",
   "metadata": {},
   "source": [
    "<p style=\"text-align: right; direction: rtl; float: right; clear: both;\">\n",
    "    לפני שנתהה על קנקנו, בואו ננסה לקרוא לפונקציה ונראה מה היא מחזירה:\n",
    "</p>"
   ]
  },
  {
   "cell_type": "code",
   "execution_count": 2,
   "metadata": {},
   "outputs": [
    {
     "name": "stdout",
     "output_type": "stream",
     "text": [
      "<generator object silly_generator at 0x7fc10e3442e0>\n"
     ]
    }
   ],
   "source": [
    "print(silly_generator())"
   ]
  },
  {
   "cell_type": "markdown",
   "metadata": {},
   "source": [
    "<p style=\"text-align: right; direction: rtl; float: right; clear: both;\">\n",
    "    אומנם למדנו שלא אומרים איכס על פונקציות, אבל מה קורה פה?\n",
    "</p>"
   ]
  },
  {
   "cell_type": "markdown",
   "metadata": {},
   "source": [
    "<p style=\"text-align: right; direction: rtl; float: right; clear: both;\">\n",
    "    בניגוד לפונקציות רגילות, קריאה ל־generator לא מחזירה ערך מייד.<br>\n",
    "    במקום ערך היא מחזירה מעין סמן, כמו בקובץ, שאפשר לדמיין כחץ שמצביע על השורה הראשונה של הפונקציה.<br>\n",
    "    נשמור את הסמן על משתנה:\n",
    "</p>"
   ]
  },
  {
   "cell_type": "code",
   "execution_count": 8,
   "metadata": {},
   "outputs": [],
   "source": [
    "our_generator = silly_generator()"
   ]
  },
  {
   "cell_type": "markdown",
   "metadata": {},
   "source": [
    "<p style=\"text-align: right; direction: rtl; float: right; clear: both;\">\n",
    "    בעקבות הקריאה ל־<code>silly_generator</code> נוצר לנו סמן שמצביע כרגע על השורה <code>a = 1</code>.<br>\n",
    "    המינוח המקצועי לסמן הזה הוא <dfn>generator iterator</dfn>.\n",
    "</p>"
   ]
  },
  {
   "cell_type": "markdown",
   "metadata": {},
   "source": [
    "<img src=\"images/silly_generator1.png?v=1\" width=\"300px\" style=\"display: block; margin-left: auto; margin-right: auto;\" alt=\"תוכן הפונקציה silly_generator, כאשר חץ מצביע לשורה הראשונה שלה – a = 1\">"
   ]
  },
  {
   "cell_type": "markdown",
   "metadata": {},
   "source": [
    "<p style=\"text-align: right; direction: rtl; float: right; clear: both;\">\n",
    "    אחרי שהרצנו את השורה <code dir=\"ltr\">our_generator = silly_generator()</code>, הסמן המדובר נשמר במשתנה בשם <var>our_generator</var>.<br>\n",
    "    זה זמן מצוין לבקש מה־generator להחזיר ערך.<br>\n",
    "    נעשה זאת בעזרת הפונקציה הפייתונית <code>next</code>:\n",
    "</p>"
   ]
  },
  {
   "cell_type": "code",
   "execution_count": 9,
   "metadata": {},
   "outputs": [
    {
     "name": "stdout",
     "output_type": "stream",
     "text": [
      "1\n"
     ]
    }
   ],
   "source": [
    "next_value = next(our_generator)\n",
    "print(next_value)"
   ]
  },
  {
   "cell_type": "markdown",
   "metadata": {},
   "source": [
    "<p style=\"text-align: right; direction: rtl; float: right; clear: both;\">\n",
    "    כדי להבין מה התרחש נצטרך להבין שני דברים חשובים שקשורים ל־generators:<br>\n",
    "</p>\n",
    "<ol style=\"text-align: right; direction: rtl; float: right; clear: both;\">\n",
    "    <li>קריאה ל־<code>next</code> היא כמו לחיצה על \"נגן\" (Play) – היא גורמת לסמן לרוץ עד שהוא מגיע לשורה של החזרת ערך.</li>\n",
    "    <li>מילת המפתח <code>yield</code> דומה למילת המפתח <code>return</code> – היא מפסיקה את ריצת הסמן, ומחזירה את הערך שמופיע אחריה.</li>\n",
    "</ol>"
   ]
  },
  {
   "cell_type": "markdown",
   "metadata": {},
   "source": [
    "<p style=\"text-align: right; direction: rtl; float: right; clear: both;\">\n",
    "    אז היה לנו סמן שהצביע על השורה הראשונה. לחצנו Play, והוא הריץ את הקוד עד שהוא הגיע לנקודה שבה מחזירים ערך.<br>\n",
    "    ההבדל בין פונקציה לבין generator, הוא ש<mark>כשאנחנו מחזירים ערך בעזרת <code>yield</code> אנחנו \"מקפיאים\" את המצב שבו\n",
    "    יצאנו מהפונקציה.</mark><br>\n",
    "    ממש כמו ללחוץ על \"Pause\".<br>\n",
    "    כשנקרא ל־<code>next</code> בפעם הבאה – הפונקציה תמשיך לרוץ מאותו המקום שבו השארנו את הסמן, עם אותם ערכי משתנים.<br>\n",
    "    עכשיו הסמן מצביע על השורה <code>b = a + 1</code>, ומחכה שמישהו יקרא שוב ל־<code>next</code> כדי שהפונקציה תוכל להמשיך לרוץ:\n",
    "</p>"
   ]
  },
  {
   "cell_type": "code",
   "execution_count": 10,
   "metadata": {},
   "outputs": [
    {
     "name": "stdout",
     "output_type": "stream",
     "text": [
      "2\n"
     ]
    }
   ],
   "source": [
    "print(next(our_generator))"
   ]
  },
  {
   "cell_type": "markdown",
   "metadata": {},
   "source": [
    "<p style=\"text-align: right; direction: rtl; float: right; clear: both;\">\n",
    "    נסכם מה קרה עד עכשיו:\n",
    "</p>\n",
    "\n",
    "<ol style=\"text-align: right; direction: rtl; float: right; clear: both;\">\n",
    "    <li>הגדרנו פונקציה בשם <var>silly_generator</var>, שאמורה להחזיר את הערכים <samp>1</samp>, <samp>2</samp> ו־<samp dir=\"ltr\">[1, 2, 3]</samp>. קראנו לה \"<em>פונקציית הגנרטור</em>\".</li>\n",
    "    <li>בעזרת קריאה לפונקציית הגנרטור, יצרנו \"סמן\" (generator iterator) שנקרא <var>our_generator</var> ומצביע לשורה הראשונה בפונקציה.</li>\n",
    "    <li>בעזרת קריאה ל־<code>next</code> על ה־generator iterator, הרצנו את הסמן עד שה־generator החזיר ערך.</li>\n",
    "    <li>למדנו ש־generator־ים מחזירים ערכים בעיקר בעזרת yield – שמחזיר ערך ושומר את המצב שבו הפונקציה עצרה.</li>\n",
    "    <li>קראנו שוב ל־<code>next</code> על ה־generator iterator, וראינו שהוא ממשיך מהמקום שבו ה־generator הפסיק לרוץ פעם קודמת.</li>\n",
    "</ol>"
   ]
  },
  {
   "cell_type": "markdown",
   "metadata": {},
   "source": [
    "<div class=\"align-center\" style=\"display: flex; text-align: right; direction: rtl; clear: both;\">\n",
    "    <div style=\"display: flex; width: 10%; float: right; clear: both;\">\n",
    "        <img src=\"images/exercise.svg\" style=\"height: 50px !important;\" alt=\"תרגול\"> \n",
    "    </div>\n",
    "    <div style=\"width: 70%\">\n",
    "        <p style=\"text-align: right; direction: rtl; float: right; clear: both;\">\n",
    "            תוכלו לחזות מה יקרה אם נקרא שוב ל־<code>next(our_generator)</code>?\n",
    "        </p>\n",
    "    </div>\n",
    "    <div style=\"display: flex; width: 20%; border-right: 0.1rem solid #A5A5A5; padding: 1rem 2rem;\">\n",
    "        <p style=\"text-align: center; direction: rtl; justify-content: center; align-items: center; clear: both;\">\n",
    "            <strong>חשוב!</strong><br>\n",
    "            פתרו לפני שתמשיכו!\n",
    "        </p>\n",
    "    </div>\n",
    "</div>"
   ]
  },
  {
   "cell_type": "markdown",
   "metadata": {},
   "source": [
    "<p style=\"text-align: right; direction: rtl; float: right; clear: both;\">\n",
    "    ננסה:\n",
    "</p>"
   ]
  },
  {
   "cell_type": "code",
   "execution_count": 11,
   "metadata": {},
   "outputs": [
    {
     "name": "stdout",
     "output_type": "stream",
     "text": [
      "[1, 2, 3]\n"
     ]
    }
   ],
   "source": [
    "print(next(our_generator))"
   ]
  },
  {
   "cell_type": "markdown",
   "metadata": {},
   "source": [
    "<p style=\"text-align: right; direction: rtl; float: right; clear: both;\">\n",
    "    יופי! הכל הלך כמצופה.<br>\n",
    "    אבל מה צופן לנו העתיד?<br>\n",
    "    בפעם הבאה שנבקש ערך מהפונקציה, הסמן שלנו ירוץ הלאה ולא ייתקל ב־<code>yield</code>.<br>\n",
    "    במקרה כזה, נקבל שגיאת <var>StopIteration</var>, שמבשרת לנו ש־<code>next</code> לא הצליח לחלץ מה־generator את הערך הבא.\n",
    "</p>"
   ]
  },
  {
   "cell_type": "code",
   "execution_count": 12,
   "metadata": {},
   "outputs": [
    {
     "ename": "StopIteration",
     "evalue": "",
     "output_type": "error",
     "traceback": [
      "\u001b[0;31m---------------------------------------------------------------------------\u001b[0m",
      "\u001b[0;31mStopIteration\u001b[0m                             Traceback (most recent call last)",
      "\u001b[0;32m/var/folders/yp/3vj3rvn11vzc4s_v4t4551dw0000gn/T/ipykernel_2951/2570190799.py\u001b[0m in \u001b[0;36m<module>\u001b[0;34m\u001b[0m\n\u001b[0;32m----> 1\u001b[0;31m \u001b[0mprint\u001b[0m\u001b[0;34m(\u001b[0m\u001b[0mnext\u001b[0m\u001b[0;34m(\u001b[0m\u001b[0mour_generator\u001b[0m\u001b[0;34m)\u001b[0m\u001b[0;34m)\u001b[0m\u001b[0;34m\u001b[0m\u001b[0;34m\u001b[0m\u001b[0m\n\u001b[0m",
      "\u001b[0;31mStopIteration\u001b[0m: "
     ]
    }
   ],
   "source": [
    "print(next(our_generator))"
   ]
  },
  {
   "cell_type": "markdown",
   "metadata": {},
   "source": [
    "<p style=\"text-align: right; direction: rtl; float: right; clear: both;\">\n",
    "    מובן שאין סיבה להילחץ.<br>\n",
    "    במקרה הזה אפילו לא מדובר במשהו רע – פשוט כילינו את כל הערכים מה־generator iterator שלנו.<br>\n",
    "    פונקציית ה־generator עדיין קיימת!<br>\n",
    "    אפשר ליצור עוד generator iterator אם נרצה, ולקבל את כל הערכים שנמצאים בו באותה צורה:\n",
    "</p>"
   ]
  },
  {
   "cell_type": "code",
   "execution_count": 13,
   "metadata": {},
   "outputs": [
    {
     "name": "stdout",
     "output_type": "stream",
     "text": [
      "1\n",
      "2\n",
      "[1, 2, 3]\n"
     ]
    }
   ],
   "source": [
    "our_generator = silly_generator()\n",
    "print(next(our_generator))\n",
    "print(next(our_generator))\n",
    "print(next(our_generator))"
   ]
  },
  {
   "cell_type": "markdown",
   "metadata": {},
   "source": [
    "<p style=\"text-align: right; direction: rtl; float: right; clear: both;\">\n",
    "    אבל כשחושבים על זה, זה קצת מגוחך.<br>\n",
    "    בכל פעם שנרצה להשיג את הערך הבא נצטרך לרשום <code>next</code>?<br>\n",
    "    חייבת להיות דרך טובה יותר!\n",
    "</p>"
   ]
  },
  {
   "cell_type": "markdown",
   "metadata": {},
   "source": [
    "### <span style=\"text-align: right; direction: rtl; float: right; clear: both;\">כל generator הוא גם iterable</span>"
   ]
  },
  {
   "cell_type": "markdown",
   "metadata": {},
   "source": [
    "#### <span style=\"text-align: right; direction: rtl; float: right; clear: both;\">for</span>"
   ]
  },
  {
   "cell_type": "markdown",
   "metadata": {},
   "source": [
    "<p style=\"text-align: right; direction: rtl; float: right; clear: both;\">\n",
    "    אז למעשה, יש יותר מדרך טובה אחת להשיג את כל הערכים שיוצאים מ־generator מסוים.<br>\n",
    "    כהקדמה, נניח פה עובדה שלא תשאיר אתכם אדישים: ה־generator iterator הוא... iterable! הפתעת השנה, אני יודע!<br>\n",
    "    אמנם אי אפשר לפנות לאיברים שלו לפי מיקום, אך בהחלט אפשר לעבור עליהם בעזרת לולאת <code>for</code>, לדוגמה:\n",
    "</p>"
   ]
  },
  {
   "cell_type": "code",
   "execution_count": 16,
   "metadata": {},
   "outputs": [
    {
     "name": "stdout",
     "output_type": "stream",
     "text": [
      "1\n",
      "2\n",
      "[1, 2, 3]\n"
     ]
    }
   ],
   "source": [
    "our_generator = silly_generator()\n",
    "for item in our_generator:\n",
    "    print(item)"
   ]
  },
  {
   "cell_type": "markdown",
   "metadata": {},
   "source": [
    "<p style=\"text-align: right; direction: rtl; float: right; clear: both;\">\n",
    "    מה מתרחש כאן?<br>\n",
    "    אנחנו מבקשים מלולאת ה־<code>for</code> לעבור על ה־generator iterator שלנו.<br>\n",
    "    ה־<code>for</code> עושה עבורנו את העבודה אוטומטית:\n",
    "</p>\n",
    "\n",
    "<ol style=\"text-align: right; direction: rtl; float: right; clear: both;\">\n",
    "    <li>הוא מבקש את האיבר הבא מה־generator iterator באמצעות <code>next</code>.</li>\n",
    "    <li>הוא מכניס את האיבר שהוא קיבל מה־generator ל־<var>item</var>.</li>\n",
    "    <li>הוא מבצע את גוף הלולאה פעם אחת עבור האיבר שנמצא ב־<var>item</var>.</li>\n",
    "    <li>הוא חוזר לראש הלולאה שוב, ומנסה לקבל את האיבר הבא באמצעות <code>next</code>. כך עד שייגמרו האיברים ב־generator iterator.</li>\n",
    "</ol>"
   ]
  },
  {
   "cell_type": "markdown",
   "metadata": {},
   "source": [
    "<p style=\"text-align: right; direction: rtl; float: right; clear: both;\">\n",
    "    שימו לב שהעובדות שלמדנו בנוגע לאותו \"סמן\" יבואו לידי ביטוי גם כאן.<br>\n",
    "    הרצה נוספת של הלולאה על אותו סמן לא תדפיס יותר איברים, כיוון שהסמן מצביע כעת על סוף פונקציית ה־generator:\n",
    "</p>"
   ]
  },
  {
   "cell_type": "code",
   "execution_count": 15,
   "metadata": {},
   "outputs": [],
   "source": [
    "for item in our_generator:\n",
    "    print(item)"
   ]
  },
  {
   "cell_type": "markdown",
   "metadata": {},
   "source": [
    "<p style=\"text-align: right; direction: rtl; float: right; clear: both;\">\n",
    "    למזלנו, לולאות <code>for</code> יודעות לטפל בעצמן בשגיאת <code>StopIteration</code>, ולכן שגיאה שכזו לא תקפוץ לנו במקרה הזה.\n",
    "</p>"
   ]
  },
  {
   "cell_type": "markdown",
   "metadata": {},
   "source": [
    "#### <span style=\"text-align: right; direction: rtl; float: right; clear: both;\">המרת טיפוסים</span>"
   ]
  },
  {
   "cell_type": "markdown",
   "metadata": {},
   "source": [
    "<p style=\"text-align: right; direction: rtl; float: right; clear: both;\">\n",
    "    דרך אחרת, לדוגמה, היא לבקש להמיר את ה־generator iterator לסוג משתנה אחר שהוא גם iterable:\n",
    "</p>"
   ]
  },
  {
   "cell_type": "code",
   "execution_count": 17,
   "metadata": {},
   "outputs": [
    {
     "name": "stdout",
     "output_type": "stream",
     "text": [
      "[1, 2, [1, 2, 3]]\n"
     ]
    }
   ],
   "source": [
    "our_generator = silly_generator()\n",
    "items = list(our_generator)\n",
    "print(items)"
   ]
  },
  {
   "cell_type": "markdown",
   "metadata": {},
   "source": [
    "<p style=\"text-align: right; direction: rtl; float: right; clear: both;\">\n",
    "    בקוד שלמעלה, השתמשנו בפונקציה <code>list</code> שיודעת להמיר ערכים iterable־ים לרשימות.<br>\n",
    "    שימו לב שמה שלמדנו בנוגע ל\"סמן\" יבוא לידי ביטוי גם בהמרות:\n",
    "</p>"
   ]
  },
  {
   "cell_type": "code",
   "execution_count": 18,
   "metadata": {},
   "outputs": [
    {
     "name": "stdout",
     "output_type": "stream",
     "text": [
      "[]\n"
     ]
    }
   ],
   "source": [
    "print(list(our_generator))"
   ]
  },
  {
   "cell_type": "markdown",
   "metadata": {},
   "source": [
    "### <span style=\"text-align: right; direction: rtl; float: right; clear: both;\">שימושים פרקטיים</span>"
   ]
  },
  {
   "cell_type": "markdown",
   "metadata": {},
   "source": [
    "#### <span style=\"text-align: right; direction: rtl; float: right; clear: both;\">חיסכון בזיכרון</span>"
   ]
  },
  {
   "cell_type": "markdown",
   "metadata": {},
   "source": [
    "<p style=\"text-align: right; direction: rtl; float: right; clear: both;\">\n",
    "נכתוב פונקציה רגילה שמקבלת מספר שלם, ומחזירה רשימה של כל המספרים השלמים מ־0 ועד אותו מספר (נשמע לכם מוכר?):\n",
    "</p>"
   ]
  },
  {
   "cell_type": "code",
   "execution_count": 20,
   "metadata": {},
   "outputs": [
    {
     "name": "stdout",
     "output_type": "stream",
     "text": [
      "0\n",
      "1\n",
      "2\n",
      "3\n",
      "4\n",
      "5\n",
      "6\n",
      "7\n",
      "8\n",
      "9\n"
     ]
    }
   ],
   "source": [
    "def my_range(upper_limit):\n",
    "    numbers = []\n",
    "    current_number = 0\n",
    "    while current_number < upper_limit:\n",
    "        numbers.append(current_number)\n",
    "        current_number = current_number + 1\n",
    "    return numbers\n",
    "\n",
    "\n",
    "for number in my_range(10):\n",
    "    print(number)"
   ]
  },
  {
   "cell_type": "markdown",
   "metadata": {},
   "source": [
    "<p style=\"text-align: right; direction: rtl; float: right; clear: both;\">\n",
    "    בפונקציה הזו אנחנו יוצרים רשימת מספרים חדשה, המכילה את כל המספרים בין 0 לבין המספר שהועבר לפרמטר <var>upper_limit</var>.<br>\n",
    "    אך ישנה בעיה חמורה – הפעלת הפונקציה גורמת לניצול משאבים רבים!<br>\n",
    "    אם נכניס כארגומנט 1,000 – נצטרך להחזיק רשימה המכילה 1,000 איברים שונים, ואם נכניס מספר גדול מדי – עלול להיגמר לנו הזיכרון.\n",
    "</p>"
   ]
  },
  {
   "cell_type": "markdown",
   "metadata": {},
   "source": [
    "<p style=\"text-align: right; direction: rtl; float: right; clear: both;\">\n",
    "    אבל איזו סיבה יש לנו להחזיק בזיכרון את רשימת כל המספרים?<br>\n",
    "    אם לא עולה צורך מובהק שכזה, ייתכן שעדיף להחזיק בזיכרון מספר אחד בלבד בכל פעם, ולהחזירו מייד בעזרת generator:\n",
    "</p>"
   ]
  },
  {
   "cell_type": "code",
   "execution_count": 22,
   "metadata": {},
   "outputs": [
    {
     "name": "stdout",
     "output_type": "stream",
     "text": [
      "0\n",
      "1\n",
      "2\n",
      "3\n",
      "4\n",
      "5\n",
      "6\n",
      "7\n",
      "8\n",
      "9\n"
     ]
    }
   ],
   "source": [
    "def my_range(upper_limit):\n",
    "    current_number = 0\n",
    "    while current_number < upper_limit:\n",
    "        yield current_number\n",
    "        current_number = current_number + 1\n",
    "\n",
    "\n",
    "our_generator = my_range(10)\n",
    "for number in our_generator:\n",
    "    print(number)"
   ]
  },
  {
   "cell_type": "markdown",
   "metadata": {},
   "source": [
    "<p style=\"text-align: right; direction: rtl; float: right; clear: both;\">\n",
    "    שימו לב כמה הגרסה הזו אלגנטית יותר!<br>\n",
    "    בכל פעם אנחנו פשוט שולחים את ערכו של מספר אחד (<var>current_number</var>) החוצה.<br>\n",
    "    כשמבקשים את הערך הבא מה־generator iterator, פונקציית ה־generator חוזרת לעבוד מהנקודה שבה היא עצרה:<br>\n",
    "    היא מעלה את ערכו של המספר הנוכחי, בודקת אם הוא נמוך מ־<var>upper_limit</var>, ושולחת גם אותו החוצה.<br>\n",
    "    בשיטה הזו, <code>my_range(numbers)</code> לא מחזירה לנו רשימה של התוצאות – אלא generator iterator שמחזיר ערך אחד בכל פעם.<br>\n",
    "    כך אנחנו לעולם לא מחזיקים בזיכרון 1,000 מספרים בו־זמנית.\n",
    "</p>"
   ]
  },
  {
   "cell_type": "markdown",
   "metadata": {},
   "source": [
    "<div class=\"align-center\" style=\"display: flex; text-align: right; direction: rtl; clear: both;\">\n",
    "    <div style=\"display: flex; width: 10%; float: right; clear: both;\">\n",
    "        <img src=\"images/exercise.svg\" style=\"height: 50px !important;\" alt=\"תרגול\"> \n",
    "    </div>\n",
    "    <div style=\"width: 70%\">\n",
    "        <p style=\"text-align: right; direction: rtl; float: right; clear: both;\">\n",
    "            לפניכם פונקציה שמקבלת רשימה, ומחזירה עבור כל מספר ברשימה את ערכו בריבוע.<br>\n",
    "            זוהי גרסה מעט בזבזנית שמשתמשת בהרבה זיכרון. תוכלו להמיר אותה להיות generator?\n",
    "        </p>\n",
    "    </div>\n",
    "    <div style=\"display: flex; width: 20%; border-right: 0.1rem solid #A5A5A5; padding: 1rem 2rem;\">\n",
    "        <p style=\"text-align: center; direction: rtl; justify-content: center; align-items: center; clear: both;\">\n",
    "            <strong>חשוב!</strong><br>\n",
    "            פתרו לפני שתמשיכו!\n",
    "        </p>\n",
    "    </div>\n",
    "</div>"
   ]
  },
  {
   "cell_type": "code",
   "execution_count": 26,
   "metadata": {},
   "outputs": [
    {
     "name": "stdout",
     "output_type": "stream",
     "text": [
      "0\n",
      "1\n",
      "4\n",
      "9\n",
      "16\n",
      "25\n",
      "36\n",
      "49\n",
      "64\n",
      "81\n"
     ]
    }
   ],
   "source": [
    "def square_numbers(numbers):\n",
    "    squared_numbers = []\n",
    "    for number in numbers:\n",
    "        squared_numbers.append(number ** 2)\n",
    "    return squared_numbers\n",
    "\n",
    "\n",
    "for number in square_numbers(my_range(10)):\n",
    "    print(number)"
   ]
  },
  {
   "cell_type": "code",
   "execution_count": 25,
   "metadata": {},
   "outputs": [
    {
     "name": "stdout",
     "output_type": "stream",
     "text": [
      "0\n",
      "1\n",
      "4\n",
      "9\n",
      "16\n",
      "25\n",
      "36\n",
      "49\n",
      "64\n",
      "81\n"
     ]
    }
   ],
   "source": [
    "def square_numbers(numbers):\n",
    "    for number in numbers:\n",
    "        yield number ** 2\n",
    "\n",
    "our_generator = square_numbers(range(0,10))\n",
    "for number in our_generator:\n",
    "    print(number)   "
   ]
  },
  {
   "cell_type": "markdown",
   "metadata": {},
   "source": [
    "#### <span style=\"text-align: right; direction: rtl; float: right; clear: both;\">תשובות חלקיות</span>"
   ]
  },
  {
   "cell_type": "markdown",
   "metadata": {},
   "source": [
    "<p style=\"text-align: right; direction: rtl; float: right; clear: both;\">\n",
    "    לעיתים ניאלץ לבצע חישוב ארוך, שהשלמתו תימשך זמן רב מאוד.<br>\n",
    "    במקרה כזה, נוכל להשתמש ב־generator כדי לקבל חלק מהתוצאה בזמן אמת,<br>\n",
    "    בזמן שבפונקציה \"רגילה\" נצטרך להמתין עד סיום החישוב כולו.\n",
    "</p>"
   ]
  },
  {
   "cell_type": "markdown",
   "metadata": {},
   "source": [
    "<p style=\"text-align: right; direction: rtl; float: right; clear: both;\">\n",
    "    שלשה פיתגורית, לדוגמה, היא שלישיית מספרים שלמים וחיוביים, $a$, $b$ ו־$c$, שעונים על הדרישה $a^2 + b^2 = c^2$.<br>\n",
    "    אם כך, כדי ששלושה מספרים שאנחנו בוחרים ייחשבו שלשה פיתגורית,<br>\n",
    "    הסכום של ריבוע המספר הראשון וריבוע המספר השני, אמור להיות שווה לערכו של המספר השלישי בריבוע.\n",
    "</p>"
   ]
  },
  {
   "cell_type": "markdown",
   "metadata": {},
   "source": [
    "def find_pythagorean_triples(upper_bound=10_000):\n",
    "    pythagorean_triples = []\n",
    "    for c in range(3, upper_bound):\n",
    "        for b in range(2, c):\n",
    "            for a in range(1, b):\n",
    "                if a ** 2 + b **2 == c ** 2:\n",
    "                    pythagorean_triples.append((a, b, c))\n",
    "    return pythagorean_triples\n",
    "\n",
    "\n",
    "for triple in find_pythagorean_triples():\n",
    "    print(triple)<p style=\"text-align: right; direction: rtl; float: right; clear: both;\">\n",
    "    אלו דוגמאות לשלשות פיתגוריות:\n",
    "</p>\n",
    "\n",
    "<ul style=\"text-align: right; direction: rtl; float: right; clear: both;\">\n",
    "    <li>$(3, 4, 5)$, כיוון ש־$9 + 16 = 25$.<br>\n",
    "        9 הוא 3 בריבוע, 16 הוא 4 בריבוע ו־25 הוא 5 בריבוע.\n",
    "    </li>\n",
    "    <li>$(5, 12, 13)$, כיוון ש־$25 + 144 = 169$.</li>\n",
    "    <li>$(8, 15, 17)$, כיוון ש־$64 + 225 = 289$.</li>\n",
    "</ul>"
   ]
  },
  {
   "cell_type": "code",
   "execution_count": null,
   "metadata": {},
   "outputs": [],
   "source": [
    "def find_pythagorean_triples(upper_bound=10_000):\n",
    "    pythagorean_triples = []\n",
    "    for c in range(3, upper_bound):\n",
    "        for b in range(2, c):\n",
    "            for a in range(1, b):\n",
    "                if a ** 2 + b **2 == c ** 2:\n",
    "                    pythagorean_triples.append((a, b, c))\n",
    "    return pythagorean_triples\n",
    "\n",
    "\n",
    "for triple in find_pythagorean_triples():\n",
    "    print(triple)"
   ]
  },
  {
   "cell_type": "markdown",
   "metadata": {},
   "source": [
    "<p style=\"text-align: right; direction: rtl; float: right; clear: both;\">\n",
    "    ננסה למצוא את כל השלשות הפיתגוריות מתחת ל־10,000 בעזרת קוד שרץ על כל השלשות האפשריות:\n",
    "</p>"
   ]
  },
  {
   "cell_type": "markdown",
   "metadata": {},
   "source": [
    "<div class=\"align-center\" style=\"display: flex; text-align: right; direction: rtl;\">\n",
    "    <div style=\"display: flex; width: 10%; float: right; \">\n",
    "        <img src=\"images/warning.png\" style=\"height: 50px !important;\" alt=\"אזהרה!\"> \n",
    "    </div>\n",
    "    <div style=\"width: 90%\">\n",
    "        <p style=\"text-align: right; direction: rtl;\">\n",
    "            הרצת התא הקודם תתקע את המחברת (חישוב התוצאה יימשך זמן רב).<br>\n",
    "            כדי להיות מסוגלים להריץ את התאים הבאים, לחצו <samp>00</samp> לאחר הרצת התא, ובחרו <em>Restart</em>.<br>\n",
    "            אל דאגה – האתחול יתבצע אך ורק עבור המחברת, ולא עבור מחשב.\n",
    "        </p>\n",
    "    </div>\n",
    "</div>"
   ]
  },
  {
   "cell_type": "markdown",
   "metadata": {},
   "source": [
    "<p style=\"text-align: right; direction: rtl; float: right; clear: both;\">\n",
    "    יו, כמה זמן נמשכת הרצת הקוד הזה... 😴<br>\n",
    "    הלוואי שעד שהקוד הזה היה מסיים היינו מקבלים לפחות <em>חלק</em> מהתוצאות!<br>\n",
    "    נפנה ל־generator־ים לעזרה:\n",
    "</p>"
   ]
  },
  {
   "cell_type": "code",
   "execution_count": 28,
   "metadata": {},
   "outputs": [
    {
     "name": "stdout",
     "output_type": "stream",
     "text": [
      "(3, 4, 5)\n",
      "(6, 8, 10)\n",
      "(5, 12, 13)\n",
      "(9, 12, 15)\n",
      "(8, 15, 17)\n",
      "(12, 16, 20)\n",
      "(15, 20, 25)\n",
      "(7, 24, 25)\n",
      "(10, 24, 26)\n",
      "(20, 21, 29)\n",
      "(18, 24, 30)\n",
      "(16, 30, 34)\n",
      "(21, 28, 35)\n",
      "(12, 35, 37)\n",
      "(15, 36, 39)\n",
      "(24, 32, 40)\n",
      "(9, 40, 41)\n",
      "(27, 36, 45)\n",
      "(30, 40, 50)\n",
      "(14, 48, 50)\n",
      "(24, 45, 51)\n",
      "(20, 48, 52)\n",
      "(28, 45, 53)\n",
      "(33, 44, 55)\n",
      "(40, 42, 58)\n",
      "(36, 48, 60)\n",
      "(11, 60, 61)\n",
      "(39, 52, 65)\n",
      "(33, 56, 65)\n",
      "(25, 60, 65)\n",
      "(16, 63, 65)\n",
      "(32, 60, 68)\n",
      "(42, 56, 70)\n",
      "(48, 55, 73)\n",
      "(24, 70, 74)\n",
      "(45, 60, 75)\n",
      "(21, 72, 75)\n",
      "(30, 72, 78)\n",
      "(48, 64, 80)\n",
      "(18, 80, 82)\n",
      "(51, 68, 85)\n",
      "(40, 75, 85)\n",
      "(36, 77, 85)\n",
      "(13, 84, 85)\n",
      "(60, 63, 87)\n",
      "(39, 80, 89)\n",
      "(54, 72, 90)\n",
      "(35, 84, 91)\n",
      "(57, 76, 95)\n",
      "(65, 72, 97)\n",
      "(60, 80, 100)\n",
      "(28, 96, 100)\n",
      "(20, 99, 101)\n",
      "(48, 90, 102)\n",
      "(40, 96, 104)\n",
      "(63, 84, 105)\n",
      "(56, 90, 106)\n",
      "(60, 91, 109)\n",
      "(66, 88, 110)\n",
      "(36, 105, 111)\n",
      "(15, 112, 113)\n",
      "(69, 92, 115)\n",
      "(80, 84, 116)\n",
      "(45, 108, 117)\n",
      "(56, 105, 119)\n",
      "(72, 96, 120)\n",
      "(22, 120, 122)\n",
      "(27, 120, 123)\n",
      "(75, 100, 125)\n",
      "(44, 117, 125)\n",
      "(35, 120, 125)\n",
      "(78, 104, 130)\n",
      "(66, 112, 130)\n",
      "(50, 120, 130)\n",
      "(32, 126, 130)\n",
      "(81, 108, 135)\n",
      "(64, 120, 136)\n",
      "(88, 105, 137)\n",
      "(84, 112, 140)\n",
      "(55, 132, 143)\n",
      "(100, 105, 145)\n",
      "(87, 116, 145)\n",
      "(24, 143, 145)\n",
      "(17, 144, 145)\n",
      "(96, 110, 146)\n",
      "(48, 140, 148)\n",
      "(51, 140, 149)\n",
      "(90, 120, 150)\n",
      "(42, 144, 150)\n",
      "(72, 135, 153)\n",
      "(93, 124, 155)\n",
      "(60, 144, 156)\n",
      "(85, 132, 157)\n",
      "(84, 135, 159)\n",
      "(96, 128, 160)\n",
      "(36, 160, 164)\n",
      "(99, 132, 165)\n",
      "(119, 120, 169)\n",
      "(65, 156, 169)\n",
      "(102, 136, 170)\n",
      "(80, 150, 170)\n",
      "(72, 154, 170)\n",
      "(26, 168, 170)\n",
      "(52, 165, 173)\n",
      "(120, 126, 174)\n",
      "(105, 140, 175)\n",
      "(49, 168, 175)\n",
      "(78, 160, 178)\n",
      "(108, 144, 180)\n",
      "(19, 180, 181)\n",
      "(70, 168, 182)\n",
      "(33, 180, 183)\n",
      "(111, 148, 185)\n",
      "(104, 153, 185)\n",
      "(60, 175, 185)\n",
      "(57, 176, 185)\n",
      "(88, 165, 187)\n",
      "(114, 152, 190)\n",
      "(95, 168, 193)\n",
      "(130, 144, 194)\n",
      "(117, 156, 195)\n",
      "(99, 168, 195)\n",
      "(75, 180, 195)\n",
      "(48, 189, 195)\n",
      "(28, 195, 197)\n",
      "(120, 160, 200)\n",
      "(56, 192, 200)\n",
      "(40, 198, 202)\n",
      "(140, 147, 203)\n",
      "(96, 180, 204)\n",
      "(133, 156, 205)\n",
      "(123, 164, 205)\n",
      "(84, 187, 205)\n",
      "(45, 200, 205)\n",
      "(80, 192, 208)\n",
      "(126, 168, 210)\n",
      "(112, 180, 212)\n",
      "(129, 172, 215)\n",
      "(120, 182, 218)\n",
      "(144, 165, 219)\n",
      "(132, 176, 220)\n",
      "(140, 171, 221)\n",
      "(104, 195, 221)\n",
      "(85, 204, 221)\n",
      "(21, 220, 221)\n",
      "(72, 210, 222)\n",
      "(135, 180, 225)\n",
      "(63, 216, 225)\n",
      "(30, 224, 226)\n",
      "(60, 221, 229)\n",
      "(138, 184, 230)\n",
      "(160, 168, 232)\n",
      "(105, 208, 233)\n",
      "(90, 216, 234)\n",
      "(141, 188, 235)\n",
      "(112, 210, 238)\n",
      "(144, 192, 240)\n",
      "(120, 209, 241)\n",
      "(44, 240, 244)\n",
      "(147, 196, 245)\n",
      "(54, 240, 246)\n",
      "(95, 228, 247)\n",
      "(150, 200, 250)\n",
      "(88, 234, 250)\n",
      "(70, 240, 250)\n",
      "(153, 204, 255)\n",
      "(120, 225, 255)\n",
      "(108, 231, 255)\n",
      "(39, 252, 255)\n",
      "(32, 255, 257)\n",
      "(84, 245, 259)\n",
      "(156, 208, 260)\n",
      "(132, 224, 260)\n",
      "(100, 240, 260)\n",
      "(64, 252, 260)\n",
      "(180, 189, 261)\n",
      "(159, 212, 265)\n",
      "(140, 225, 265)\n",
      "(96, 247, 265)\n",
      "(23, 264, 265)\n",
      "(117, 240, 267)\n",
      "(69, 260, 269)\n",
      "(162, 216, 270)\n",
      "(128, 240, 272)\n",
      "(105, 252, 273)\n",
      "(176, 210, 274)\n",
      "(165, 220, 275)\n",
      "(77, 264, 275)\n",
      "(115, 252, 277)\n",
      "(168, 224, 280)\n",
      "(160, 231, 281)\n",
      "(171, 228, 285)\n",
      "(110, 264, 286)\n",
      "(63, 280, 287)\n",
      "(161, 240, 289)\n",
      "(136, 255, 289)\n",
      "(200, 210, 290)\n",
      "(174, 232, 290)\n",
      "(48, 286, 290)\n",
      "(34, 288, 290)\n",
      "(195, 216, 291)\n",
      "(192, 220, 292)\n",
      "(68, 285, 293)\n",
      "(177, 236, 295)\n",
      "(96, 280, 296)\n",
      "(102, 280, 298)\n",
      "(115, 276, 299)\n",
      "(180, 240, 300)\n",
      "(84, 288, 300)\n",
      "(60, 297, 303)\n",
      "(207, 224, 305)\n",
      "(183, 244, 305)\n",
      "(136, 273, 305)\n",
      "(55, 300, 305)\n",
      "(144, 270, 306)\n",
      "(186, 248, 310)\n",
      "(120, 288, 312)\n",
      "(25, 312, 313)\n",
      "(170, 264, 314)\n",
      "(189, 252, 315)\n",
      "(75, 308, 317)\n",
      "(168, 270, 318)\n",
      "(220, 231, 319)\n",
      "(192, 256, 320)\n",
      "(152, 285, 323)\n",
      "(204, 253, 325)\n",
      "(195, 260, 325)\n",
      "(165, 280, 325)\n",
      "(125, 300, 325)\n",
      "(91, 312, 325)\n",
      "(80, 315, 325)\n",
      "(36, 323, 325)\n",
      "(180, 273, 327)\n",
      "(72, 320, 328)\n",
      "(198, 264, 330)\n",
      "(108, 315, 333)\n",
      "(201, 268, 335)\n",
      "(175, 288, 337)\n",
      "(238, 240, 338)\n",
      "(130, 312, 338)\n",
      "(45, 336, 339)\n",
      "(204, 272, 340)\n",
      "(160, 300, 340)\n",
      "(144, 308, 340)\n",
      "(52, 336, 340)\n",
      "(207, 276, 345)\n",
      "(104, 330, 346)\n",
      "(240, 252, 348)\n",
      "(180, 299, 349)\n",
      "(210, 280, 350)\n",
      "(98, 336, 350)\n",
      "(135, 324, 351)\n",
      "(225, 272, 353)\n",
      "(213, 284, 355)\n",
      "(156, 320, 356)\n",
      "(168, 315, 357)\n",
      "(216, 288, 360)\n",
      "(38, 360, 362)\n",
      "(140, 336, 364)\n",
      "(240, 275, 365)\n",
      "(219, 292, 365)\n",
      "(76, 357, 365)\n",
      "(27, 364, 365)\n",
      "(66, 360, 366)\n",
      "(81, 360, 369)\n",
      "(222, 296, 370)\n",
      "(208, 306, 370)\n",
      "(120, 350, 370)\n",
      "(114, 352, 370)\n",
      "(196, 315, 371)\n",
      "(252, 275, 373)\n",
      "(176, 330, 374)\n",
      "(225, 300, 375)\n",
      "(132, 351, 375)\n",
      "(105, 360, 375)\n",
      "(260, 273, 377)\n",
      "(152, 345, 377)\n",
      "(145, 348, 377)\n",
      "(135, 352, 377)\n",
      "(228, 304, 380)\n",
      "(231, 308, 385)\n",
      "(190, 336, 386)\n",
      "(260, 288, 388)\n",
      "(189, 340, 389)\n",
      "(234, 312, 390)\n",
      "(198, 336, 390)\n",
      "(150, 360, 390)\n",
      "(96, 378, 390)\n",
      "(184, 345, 391)\n",
      "(56, 390, 394)\n",
      "(237, 316, 395)\n",
      "(228, 325, 397)\n",
      "(240, 320, 400)\n",
      "(112, 384, 400)\n",
      "(40, 399, 401)\n",
      "(155, 372, 403)\n",
      "(80, 396, 404)\n",
      "(243, 324, 405)\n",
      "(280, 294, 406)\n",
      "(132, 385, 407)\n",
      "(192, 360, 408)\n",
      "(120, 391, 409)\n",
      "(266, 312, 410)\n",
      "(246, 328, 410)\n",
      "(168, 374, 410)\n",
      "(90, 400, 410)\n",
      "(264, 315, 411)\n",
      "(249, 332, 415)\n",
      "(160, 384, 416)\n",
      "(252, 336, 420)\n",
      "(29, 420, 421)\n",
      "(224, 360, 424)\n",
      "(297, 304, 425)\n",
      "(255, 340, 425)\n",
      "(200, 375, 425)\n",
      "(180, 385, 425)\n",
      "(119, 408, 425)\n",
      "(87, 416, 425)\n",
      "(65, 420, 425)\n",
      "(77, 420, 427)\n",
      "(165, 396, 429)\n",
      "(258, 344, 430)\n",
      "(145, 408, 433)\n",
      "(300, 315, 435)\n",
      "(261, 348, 435)\n",
      "(72, 429, 435)\n",
      "(51, 432, 435)\n",
      "(240, 364, 436)\n",
      "(288, 330, 438)\n",
      "(264, 352, 440)\n",
      "(280, 342, 442)\n",
      "(208, 390, 442)\n",
      "(170, 408, 442)\n",
      "(42, 440, 442)\n",
      "(144, 420, 444)\n",
      "(267, 356, 445)\n",
      "(203, 396, 445)\n",
      "(195, 400, 445)\n",
      "(84, 437, 445)\n",
      "(153, 420, 447)\n",
      "(280, 351, 449)\n",
      "(270, 360, 450)\n",
      "(126, 432, 450)\n",
      "(99, 440, 451)\n",
      "(60, 448, 452)\n",
      "(273, 364, 455)\n",
      "(231, 392, 455)\n",
      "(175, 420, 455)\n",
      "(112, 441, 455)\n",
      "(168, 425, 457)\n",
      "(120, 442, 458)\n",
      "(216, 405, 459)\n",
      "(276, 368, 460)\n",
      "(261, 380, 461)\n",
      "(320, 336, 464)\n",
      "(279, 372, 465)\n",
      "(210, 416, 466)\n",
      "(180, 432, 468)\n",
      "(282, 376, 470)\n",
      "(255, 396, 471)\n",
      "(285, 380, 475)\n",
      "(133, 456, 475)\n",
      "(224, 420, 476)\n",
      "(252, 405, 477)\n",
      "(288, 384, 480)\n",
      "(319, 360, 481)\n",
      "(185, 444, 481)\n",
      "(156, 455, 481)\n",
      "(31, 480, 481)\n",
      "(240, 418, 482)\n",
      "(325, 360, 485)\n",
      "(291, 388, 485)\n",
      "(93, 476, 485)\n",
      "(44, 483, 485)\n",
      "(88, 480, 488)\n",
      "(294, 392, 490)\n",
      "(108, 480, 492)\n",
      "(340, 357, 493)\n",
      "(232, 435, 493)\n",
      "(155, 468, 493)\n",
      "(132, 475, 493)\n",
      "(190, 456, 494)\n",
      "(297, 396, 495)\n",
      "(300, 400, 500)\n",
      "(176, 468, 500)\n",
      "(140, 480, 500)\n",
      "(336, 377, 505)\n",
      "(303, 404, 505)\n",
      "(217, 456, 505)\n",
      "(100, 495, 505)\n",
      "(357, 360, 507)\n",
      "(195, 468, 507)\n",
      "(220, 459, 509)\n",
      "(306, 408, 510)\n",
      "(240, 450, 510)\n",
      "(216, 462, 510)\n",
      "(78, 504, 510)\n",
      "(336, 385, 511)\n",
      "(64, 510, 514)\n",
      "(309, 412, 515)\n",
      "(168, 490, 518)\n",
      "(156, 495, 519)\n",
      "(312, 416, 520)\n",
      "(264, 448, 520)\n",
      "(200, 480, 520)\n",
      "(128, 504, 520)\n",
      "(279, 440, 521)\n",
      "(360, 378, 522)\n",
      "(315, 420, 525)\n",
      "(147, 504, 525)\n",
      "(248, 465, 527)\n",
      "(318, 424, 530)\n",
      "(280, 450, 530)\n",
      "(192, 494, 530)\n",
      "(46, 528, 530)\n",
      "(308, 435, 533)\n",
      "(205, 492, 533)\n",
      "(117, 520, 533)\n",
      "(92, 525, 533)\n",
      "(234, 480, 534)\n",
      "(321, 428, 535)\n",
      "(138, 520, 538)\n"
     ]
    },
    {
     "ename": "KeyboardInterrupt",
     "evalue": "",
     "output_type": "error",
     "traceback": [
      "\u001b[0;31m---------------------------------------------------------------------------\u001b[0m",
      "\u001b[0;31mKeyboardInterrupt\u001b[0m                         Traceback (most recent call last)",
      "\u001b[0;32m/var/folders/yp/3vj3rvn11vzc4s_v4t4551dw0000gn/T/ipykernel_2951/174843143.py\u001b[0m in \u001b[0;36m<module>\u001b[0;34m\u001b[0m\n\u001b[1;32m      7\u001b[0m \u001b[0;34m\u001b[0m\u001b[0m\n\u001b[1;32m      8\u001b[0m \u001b[0;34m\u001b[0m\u001b[0m\n\u001b[0;32m----> 9\u001b[0;31m \u001b[0;32mfor\u001b[0m \u001b[0mtriple\u001b[0m \u001b[0;32min\u001b[0m \u001b[0mfind_pythagorean_triples\u001b[0m\u001b[0;34m(\u001b[0m\u001b[0;34m)\u001b[0m\u001b[0;34m:\u001b[0m\u001b[0;34m\u001b[0m\u001b[0;34m\u001b[0m\u001b[0m\n\u001b[0m\u001b[1;32m     10\u001b[0m     \u001b[0mprint\u001b[0m\u001b[0;34m(\u001b[0m\u001b[0mtriple\u001b[0m\u001b[0;34m)\u001b[0m\u001b[0;34m\u001b[0m\u001b[0;34m\u001b[0m\u001b[0m\n",
      "\u001b[0;32m/var/folders/yp/3vj3rvn11vzc4s_v4t4551dw0000gn/T/ipykernel_2951/174843143.py\u001b[0m in \u001b[0;36mfind_pythagorean_triples\u001b[0;34m(upper_bound)\u001b[0m\n\u001b[1;32m      3\u001b[0m         \u001b[0;32mfor\u001b[0m \u001b[0mb\u001b[0m \u001b[0;32min\u001b[0m \u001b[0mrange\u001b[0m\u001b[0;34m(\u001b[0m\u001b[0;36m2\u001b[0m\u001b[0;34m,\u001b[0m \u001b[0mc\u001b[0m\u001b[0;34m)\u001b[0m\u001b[0;34m:\u001b[0m\u001b[0;34m\u001b[0m\u001b[0;34m\u001b[0m\u001b[0m\n\u001b[1;32m      4\u001b[0m             \u001b[0;32mfor\u001b[0m \u001b[0ma\u001b[0m \u001b[0;32min\u001b[0m \u001b[0mrange\u001b[0m\u001b[0;34m(\u001b[0m\u001b[0;36m1\u001b[0m\u001b[0;34m,\u001b[0m \u001b[0mb\u001b[0m\u001b[0;34m)\u001b[0m\u001b[0;34m:\u001b[0m\u001b[0;34m\u001b[0m\u001b[0;34m\u001b[0m\u001b[0m\n\u001b[0;32m----> 5\u001b[0;31m                 \u001b[0;32mif\u001b[0m \u001b[0ma\u001b[0m \u001b[0;34m**\u001b[0m \u001b[0;36m2\u001b[0m \u001b[0;34m+\u001b[0m \u001b[0mb\u001b[0m \u001b[0;34m**\u001b[0m\u001b[0;36m2\u001b[0m \u001b[0;34m==\u001b[0m \u001b[0mc\u001b[0m \u001b[0;34m**\u001b[0m \u001b[0;36m2\u001b[0m\u001b[0;34m:\u001b[0m\u001b[0;34m\u001b[0m\u001b[0;34m\u001b[0m\u001b[0m\n\u001b[0m\u001b[1;32m      6\u001b[0m                     \u001b[0;32myield\u001b[0m \u001b[0ma\u001b[0m\u001b[0;34m,\u001b[0m \u001b[0mb\u001b[0m\u001b[0;34m,\u001b[0m \u001b[0mc\u001b[0m\u001b[0;34m\u001b[0m\u001b[0;34m\u001b[0m\u001b[0m\n\u001b[1;32m      7\u001b[0m \u001b[0;34m\u001b[0m\u001b[0m\n",
      "\u001b[0;31mKeyboardInterrupt\u001b[0m: "
     ]
    }
   ],
   "source": [
    "def find_pythagorean_triples(upper_bound=10_000):\n",
    "    for c in range(3, upper_bound):\n",
    "        for b in range(2, c):\n",
    "            for a in range(1, b):\n",
    "                if a ** 2 + b **2 == c ** 2:\n",
    "                    yield a, b, c\n",
    "\n",
    "\n",
    "for triple in find_pythagorean_triples():\n",
    "    print(triple)"
   ]
  },
  {
   "cell_type": "markdown",
   "metadata": {},
   "source": [
    "<p style=\"text-align: right; direction: rtl; float: right; clear: both;\">\n",
    "    איך זה קרה? קיבלנו את התשובה בתוך שבריר שנייה!<br>\n",
    "    ובכן, זה לא מדויק – קיבלנו חלק מהתשובות. שימו לב שהקוד ממשיך להדפיס :)<br>\n",
    "</p>"
   ]
  },
  {
   "cell_type": "markdown",
   "metadata": {},
   "source": [
    "<p style=\"text-align: right; direction: rtl; float: right; clear: both;\">\n",
    "    להזכירכם, ה־generator שולח את התוצאה החוצה מייד כשהוא מוצא שלשה אחת,<br>\n",
    "    וה־for מקבל מה־generator iterable כל שלשה ברגע שהיא נמצאה.<br>\n",
    "    ברגע שה־for מקבל שלשה, הוא מבצע את גוף הלולאה עבור אותה שלשה, ורק אז מבקש מ־generator את האיבר הבא.<br>\n",
    "    בגלל האופי של generators, הקוד בתא האחרון מדפיס לנו כל שלשה ברגע שהוא מצא אותה, ולא מחכה עד שיימצאו כל השלשות.\n",
    "</p>"
   ]
  },
  {
   "cell_type": "markdown",
   "metadata": {},
   "source": [
    "#### <span style=\"text-align: right; direction: rtl; float: right; clear: both;\">תרגול ביניים: מספרים פראיים</span>"
   ]
  },
  {
   "cell_type": "markdown",
   "metadata": {},
   "source": [
    "<p style=\"text-align: right; direction: rtl; float: right; clear: both;\">\n",
    "    \"פירוק לגורמים של מספר שלם\" היא בעיה שחישוב פתרונה נמשך זמן רב במחשבים מודרניים.\n",
    "</p>"
   ]
  },
  {
   "cell_type": "markdown",
   "metadata": {},
   "source": [
    "<p style=\"text-align: right; direction: rtl; float: right; clear: both;\">\n",
    "    עליכם לכתוב פונקציה שמקבלת מספר חיובי שלם $n$, ומחזירה קבוצת מספרים שמכפלתם (תוצאת הכפל ביניהם) היא $n$.<br>\n",
    "    לדוגמה, המספר 1,386 בנוי מהמכפלה של קבוצת המספרים $2 \\cdot 3 \\cdot 3 \\cdot 7 \\cdot 11$.<br>\n",
    "    כל מספר בקבוצת המספרים הזו חייב להיות ראשוני.<br>\n",
    "    להזכירכם: מספר ראשוני הוא מספר שאין לו מחלקים חוץ מעצמו ומ־1.\n",
    "</p>"
   ]
  },
  {
   "cell_type": "code",
   "execution_count": 76,
   "metadata": {},
   "outputs": [
    {
     "name": "stdout",
     "output_type": "stream",
     "text": [
      "2\n",
      "3\n",
      "3\n",
      "7\n",
      "11\n"
     ]
    }
   ],
   "source": [
    "def factorization(number):\n",
    "    num=2\n",
    "    while num<number:\n",
    "        if (number%num)==0:\n",
    "            number=number/num\n",
    "            yield num\n",
    "            num=2\n",
    "        else:\n",
    "            num+=1\n",
    "    if number!=1:\n",
    "        yield int(number)\n",
    "\n",
    "for f in factorization(1386):\n",
    "    print(f)"
   ]
  },
  {
   "cell_type": "markdown",
   "metadata": {},
   "source": [
    "<p style=\"text-align: right; direction: rtl; float: right; clear: both;\">\n",
    "    הניחו שהמספר שהתקבל אינו ראשוני.<br>\n",
    "    מה היתרון של generator על פני פונקציה רגילה שעושה אותו דבר?\n",
    "</p>"
   ]
  },
  {
   "cell_type": "markdown",
   "metadata": {},
   "source": [
    "<p style=\"text-align: right; direction: rtl; float: right; clear: both;\">    \n",
    "    רמז: <span style=\"background: black;\">אם תנסו לחלק את המספר ב־2, ואז ב־3 (וכן הלאה), בסופו של דבר תגיעו למחלק ראשוני של המספר.</span><br>\n",
    "    רמז עבה: <span style=\"background: black;\">בכל פעם שמצאתם מחלק אחד למספר, חלקו את המספר במחלק, והתחילו את החיפוש מחדש. מתי עליכם לעצור?</span>\n",
    "</p>"
   ]
  },
  {
   "cell_type": "markdown",
   "metadata": {},
   "source": [
    "#### <span style=\"text-align: right; direction: rtl; float: right; clear: both;\">אוספים אין־סופיים</span>"
   ]
  },
  {
   "cell_type": "markdown",
   "metadata": {},
   "source": [
    "<p style=\"text-align: right; direction: rtl; float: right; clear: both;\">\n",
    "    עבור בעיות מסוימות, נרצה להיות מסוגלים להחזיר אין־סוף תוצאות.<br>\n",
    "    ניקח כדוגמה לסדרה אין־סופית את סדרת פיבונאצ'י, שבה כל איבר הוא סכום זוג האיברים הקודמים לו:<br>\n",
    "    $1, 1, 2, 3, 5, 8, \\ldots$\n",
    "</p>"
   ]
  },
  {
   "cell_type": "markdown",
   "metadata": {},
   "source": [
    "<p style=\"text-align: right; direction: rtl; float: right; clear: both;\">\n",
    "    נממש פונקציה שמחזירה לנו את סדרת פיבונאצ'י.<br>\n",
    "    בפונקציה רגילה אין לנו אפשרות להחזיר מספר אין־סופי של איברים, ולכן נצטרך להחליט על מספר האיברים המרבי שנרצה להחזיר:\n",
    "</p>"
   ]
  },
  {
   "cell_type": "code",
   "execution_count": 77,
   "metadata": {},
   "outputs": [
    {
     "name": "stdout",
     "output_type": "stream",
     "text": [
      "1\n",
      "1\n",
      "2\n",
      "3\n",
      "5\n",
      "8\n",
      "13\n",
      "21\n",
      "34\n",
      "55\n"
     ]
    }
   ],
   "source": [
    "def fibonacci(max_items):\n",
    "    a = 1\n",
    "    b = 1\n",
    "    numbers = [1, 1]\n",
    "    while len(numbers) < max_items:\n",
    "        a, b = b, a + b  # Unpacking\n",
    "        numbers.append(b)\n",
    "    return numbers\n",
    "\n",
    "\n",
    "for number in fibonacci(10):\n",
    "    print(number)"
   ]
  },
  {
   "cell_type": "markdown",
   "metadata": {},
   "source": [
    "<p style=\"text-align: right; direction: rtl; float: right; clear: both;\">\n",
    "    לעומת זאת, ל־generators לא חייב להיות סוף מוגדר.<br>\n",
    "    נשתמש ב־<code>while True</code> שתמיד מתקיים, כדי שבסופו של דבר – תמיד נגיע ל־<code>yield</code>: \n",
    "</p>"
   ]
  },
  {
   "cell_type": "code",
   "execution_count": 78,
   "metadata": {},
   "outputs": [
    {
     "name": "stdout",
     "output_type": "stream",
     "text": [
      "1\n",
      "1\n",
      "2\n",
      "3\n",
      "5\n",
      "8\n",
      "13\n",
      "21\n",
      "34\n",
      "55\n",
      "89\n",
      "144\n",
      "233\n",
      "377\n",
      "610\n",
      "987\n",
      "1597\n",
      "2584\n",
      "4181\n",
      "6765\n"
     ]
    }
   ],
   "source": [
    "def fibonacci():\n",
    "    a = 1\n",
    "    b = 1\n",
    "    numbers = [1, 1]\n",
    "    while True:  # תמיד מתקיים\n",
    "        yield a\n",
    "        a, b = b, a + b\n",
    "\n",
    "        \n",
    "generator_iterator = fibonacci()\n",
    "for number in range(10):\n",
    "    print(next(generator_iterator))\n",
    "\n",
    "# אני יכול לבקש בקלות רבה את 10 האיברים הבאים בסדרה\n",
    "for number in range(10):\n",
    "    print(next(generator_iterator))"
   ]
  },
  {
   "cell_type": "markdown",
   "metadata": {},
   "source": [
    "<div class=\"align-center\" style=\"display: flex; text-align: right; direction: rtl;\">\n",
    "    <div style=\"display: flex; width: 10%; float: right; \">\n",
    "        <img src=\"images/warning.png\" style=\"height: 50px !important;\" alt=\"אזהרה!\"> \n",
    "    </div>\n",
    "    <div style=\"width: 90%\">\n",
    "        <p style=\"text-align: right; direction: rtl;\">\n",
    "            generators אין־סופיים יכולים לגרום בקלות ללולאות אין־סופיות, גם בלולאות <code>for</code>.<br>\n",
    "            שימו לב לצורת ההתעסקות העדינה בדוגמאות למעלה.<br>\n",
    "            הרצת לולאת <code>for</code> ישירות על ה־generator iterator הייתה מכניסה אותנו ללולאה אין־סופית.\n",
    "        </p>\n",
    "    </div>\n",
    "</div>"
   ]
  },
  {
   "cell_type": "markdown",
   "metadata": {},
   "source": [
    "<div class=\"align-center\" style=\"display: flex; text-align: right; direction: rtl; clear: both;\">\n",
    "    <div style=\"display: flex; width: 10%; float: right; clear: both;\">\n",
    "        <img src=\"images/exercise.svg\" style=\"height: 50px !important;\" alt=\"תרגול\"> \n",
    "    </div>\n",
    "    <div style=\"width: 70%\">\n",
    "        <p style=\"text-align: right; direction: rtl; float: right; clear: both;\">\n",
    "            כתבו generator שמחזיר את כל המספרים השלמים הגדולים מ־0.\n",
    "        </p>\n",
    "    </div>\n",
    "    <div style=\"display: flex; width: 20%; border-right: 0.1rem solid #A5A5A5; padding: 1rem 2rem;\">\n",
    "        <p style=\"text-align: center; direction: rtl; justify-content: center; align-items: center; clear: both;\">\n",
    "            <strong>חשוב!</strong><br>\n",
    "            פתרו לפני שתמשיכו!\n",
    "        </p>\n",
    "    </div>\n",
    "</div>"
   ]
  },
  {
   "cell_type": "markdown",
   "metadata": {},
   "source": [
    "### <span style=\"text-align: right; direction: rtl; float: right; clear: both;\">ריבוי generator iterators</span>"
   ]
  },
  {
   "cell_type": "markdown",
   "metadata": {},
   "source": [
    "<p style=\"text-align: right; direction: rtl; float: right; clear: both;\">\n",
    "    נגדיר generator פשוט שמחזיר את האיברים <samp>1</samp>, <samp>2</samp> ו־<samp>3</samp>:\n",
    "</p>"
   ]
  },
  {
   "cell_type": "code",
   "execution_count": 79,
   "metadata": {},
   "outputs": [],
   "source": [
    "def simple_generator():\n",
    "    yield 1\n",
    "    yield 2\n",
    "    yield 3"
   ]
  },
  {
   "cell_type": "markdown",
   "metadata": {},
   "source": [
    "<p style=\"text-align: right; direction: rtl; float: right; clear: both;\">\n",
    "    ניצור שני generator iterators (\"סמנים\") שונים שמצביעים לשורה הראשונה של ה־generator שמופיע למעלה:\n",
    "</p>"
   ]
  },
  {
   "cell_type": "code",
   "execution_count": 80,
   "metadata": {},
   "outputs": [],
   "source": [
    "first_gen = simple_generator()\n",
    "second_gen = simple_generator()"
   ]
  },
  {
   "cell_type": "markdown",
   "metadata": {},
   "source": [
    "<p style=\"text-align: right; direction: rtl; float: right; clear: both;\">\n",
    "    בעניין זה, חשוב להבין שכל אחד מה־generator iterators הוא \"חץ\" נפרד שמצביע לשורה הראשונה ב־<var>simple_generator</var>.<br>\n",
    "    אם נבקש מכל אחד מהם להחזיר ערך, נקבל משניהם את 1, ואותו חץ דמיוני יעבור בשני ה־generator iterators להמתין בשורה השנייה:\n",
    "</p>"
   ]
  },
  {
   "cell_type": "code",
   "execution_count": 81,
   "metadata": {},
   "outputs": [
    {
     "name": "stdout",
     "output_type": "stream",
     "text": [
      "1\n",
      "1\n"
     ]
    }
   ],
   "source": [
    "print(next(first_gen))\n",
    "print(next(second_gen))"
   ]
  },
  {
   "cell_type": "markdown",
   "metadata": {},
   "source": [
    "<p style=\"text-align: right; direction: rtl; float: right; clear: both;\">\n",
    "    נוכל לקדם את <var>first_gen</var>, לדוגמה, לסוף הפונקציה:\n",
    "</p>"
   ]
  },
  {
   "cell_type": "code",
   "execution_count": 82,
   "metadata": {},
   "outputs": [
    {
     "name": "stdout",
     "output_type": "stream",
     "text": [
      "2\n",
      "3\n"
     ]
    }
   ],
   "source": [
    "print(next(first_gen))\n",
    "print(next(first_gen))"
   ]
  },
  {
   "cell_type": "markdown",
   "metadata": {},
   "source": [
    "<p style=\"text-align: right; direction: rtl; float: right; clear: both;\">\n",
    "    אבל <var>second_gen</var> הוא חץ נפרד, שעדיין מצביע לשורה השנייה של פונקציית ה־generator.<br>\n",
    "    אם נבקש ממנו את הערך הבא, הוא ימשיך את המסע מהערך <samp>2</samp>:<br>\n",
    "</p>"
   ]
  },
  {
   "cell_type": "code",
   "execution_count": 83,
   "metadata": {},
   "outputs": [
    {
     "name": "stdout",
     "output_type": "stream",
     "text": [
      "2\n"
     ]
    }
   ],
   "source": [
    "print(next(second_gen))"
   ]
  },
  {
   "cell_type": "markdown",
   "metadata": {},
   "source": [
    "<p style=\"text-align: right; direction: rtl; float: right; clear: both;\">\n",
    "    ממצב זה נוכל להסיק שאפשר ליצור יותר מ־generator iterator אחד עבור כל פונקציית generator.<br>\n",
    "    כל אחד מה־generator iterators יחזיק תמונת מצב עצמאית של המקום שבו עצר הסמן ושל ערכי המשתנים.<br>\n",
    "    ההתנהלות של כל generator iterator תקרה בנפרד, ולא תושפע בשום צורה מה־generator iterators האחרים.<br>\n",
    "</p>"
   ]
  },
  {
   "cell_type": "markdown",
   "metadata": {},
   "source": [
    "### <span style=\"text-align: right; direction: rtl; float: right; clear: both;\">הבדלי מינוח</span>"
   ]
  },
  {
   "cell_type": "markdown",
   "metadata": {},
   "source": [
    "<p style=\"text-align: right; direction: rtl; float: right; clear: both;\">\n",
    "    בשלב זה יש לנו הרבה מבנים שאפשר לרוץ עליהם, וכל המינוח סביב עניין האיטרביליות נעשה מעט מבלבל.<br>\n",
    "    ננסה לעשות סדר בדברים:\n",
    "</p>"
   ]
  },
  {
   "cell_type": "markdown",
   "metadata": {},
   "source": [
    "<dl style=\"text-align: right; direction: rtl; float: right; clear: both;\">\n",
    "<dt>Iterable</dt><dd>\n",
    "    אם ערך מסוים הוא iterable, אפשר לפרק אותו ליחידות קטנות יותר, ולהתייחס לכל יחידה בנפרד.\n",
    "</dd>\n",
    "<dt>Iteration, חִזְרוּר</dt><dd>ביצוע יחיד של גוף הלולאה עבור ערך מסוים.</dd>\n",
    "<dt>Iterator</dt><dd>\n",
    "    ערך שמייצג זרם של מידע, ומתוכו מאחזרים ערכים אחרים. אפשר לאחזר ממנו ערך אחד בכל פעם, לפי סדר מסוים, בעזרת <code dir=\"ltr\">next()</code>.<br>\n",
    "    iterator הוא בהכרח iterable, אך לא כל iterable הוא iterator.\n",
    "</dd>\n",
    "<dt>Sequence</dt>\n",
    "    <dd>\n",
    "        כל iterable שאפשר לחלץ ממנו איברים באמצעות פנייה למיקום שלהם (<code>iterable[0]</code>), כמו מחרוזות, רשימות ו־tuple־ים.<br>\n",
    "        sequence הוא בהכרח iterable, אך לא כל iterable הוא sequence.\n",
    "    </dd>\n",
    "<dt>פונקציית ה־generator</dt><dd>פונקציה המכילה <code>yield</code> ומגדירה אילו ערכים יוחזרו מה־generator.</dd>\n",
    "<dt>Generator iterator</dt>\n",
    "    <dd>\n",
    "        iterator שנוצר מתוך פונקציית ה־generator.\n",
    "    </dd>\n",
    "<dt>Generator</dt><dd>לרוב מתייחס לפונקציית ה־generator, אך יש פעמים שמשתמשים במינוח כדי להתייחס ל־generator iterator.</dd>\n",
    "</dl>"
   ]
  },
  {
   "cell_type": "markdown",
   "metadata": {},
   "source": [
    "## <span style=\"text-align: right; direction: rtl; float: right; clear: both;\">סיכום</span>"
   ]
  },
  {
   "cell_type": "markdown",
   "metadata": {},
   "source": [
    "<p style=\"text-align: right; direction: rtl; float: right; clear: both;\">\n",
    "    Generators הם פונקציות שמאפשרות לנו להחזיר סדרות ערכים באופן מדורג.<br>\n",
    "    כשנקרא לפונקציית generator, היא תחזיר לנו generator iterator שישמש מעין \"סמן\".<br>\n",
    "    הסמן ישמור \"מצב\" שמתאר את המקום שבו אנחנו שוהים בתוך הפונקציה, ואת הערכים שחושבו במהלך ריצתה עד כה.<br>\n",
    "    בכל שלב, נוכל לבקש את הערך הבא ב־generator בעזרת קריאה לפונקציה <code>next</code> על ה־generator iterator.<br>\n",
    "    נוכל גם להשתמש במבנים שיזיזו עבורנו את הסמן, כמו <code>for</code> או המרה לסוג נתונים אחר שגם הוא iterable.\n",
    "</p>"
   ]
  },
  {
   "cell_type": "markdown",
   "metadata": {},
   "source": [
    "<p style=\"text-align: right; direction: rtl; float: right; clear: both;\">\n",
    "    ל־generators יתרונות רבים:\n",
    "</p>\n",
    "\n",
    "<ul style=\"text-align: right; direction: rtl; float: right; clear: both;\">\n",
    "    <li>אפשר ליצור בעזרתם פונקציות שמחזירות מספר אין־סופי של נתונים.</li>\n",
    "    <li>במקרים מסוימים, נוכל להיעזר בהם כדי לקבל רק חלק מהתוצאות בכל זמן נתון.</li>\n",
    "    <li>שימוש נכון בהם יכול להיות מפתח לחיסכון משמעותי במשאבי התוכנית.</li>\n",
    "</ul>"
   ]
  },
  {
   "cell_type": "markdown",
   "metadata": {},
   "source": [
    "## <span style=\"text-align: right; direction: rtl; float: right; clear: both;\">תרגילים</span>"
   ]
  },
  {
   "cell_type": "markdown",
   "metadata": {},
   "source": [
    "### <span style=\"text-align: right; direction: rtl; float: right; clear: both;\">פיצוץ אוכלוסין</span>"
   ]
  },
  {
   "cell_type": "markdown",
   "metadata": {},
   "source": [
    "<p style=\"text-align: right; direction: rtl; float: right; clear: both;\">\n",
    "    קראו בוויקיפדיה על דרך החישוב של <a href=\"https://he.wikipedia.org/wiki/%D7%A1%D7%A4%D7%A8%D7%AA_%D7%91%D7%99%D7%A7%D7%95%D7%A8%D7%AA#%D7%A1%D7%A4%D7%A8%D7%AA_%D7%91%D7%99%D7%A7%D7%95%D7%A8%D7%AA_%D7%91%D7%9E%D7%A1%D7%A4%D7%A8_%D7%94%D7%96%D7%94%D7%95%D7%AA_%D7%91%D7%99%D7%A9%D7%A8%D7%90%D7%9C\">ספרת הביקורת</a> במספרי הזהות בישראל. \n",
    "</p>"
   ]
  },
  {
   "cell_type": "markdown",
   "metadata": {},
   "source": [
    "<ol style=\"text-align: right; direction: rtl; float: right; clear: both;\">\n",
    "    <li>ממשו פונקציה שמקבלת מספר זהות ללא ספרת ביקורת, ומחזירה את ספרת הביקורת.</li>\n",
    "    <li>ממשו תוכנית המדפיסה את כל מספרי הזהות האפשריים במדינת ישראל. השתמשו בקוד שכתבתם בסעיף הראשון.</li>\n",
    "</ol>"
   ]
  },
  {
   "cell_type": "markdown",
   "metadata": {},
   "source": [
    "### <span style=\"text-align: right; direction: rtl; float: right; clear: both;\">מנה מושלמת לחלוקה</span>"
   ]
  },
  {
   "cell_type": "markdown",
   "metadata": {},
   "source": [
    "<p style=\"text-align: right; direction: rtl; float: right; clear: both;\">\n",
    "    אפשר לחלק רול סושי של 6 יחידות לאדם אחד, ל־2 אנשים, ל־3 אנשים ול־6 אנשים.<br>\n",
    "    נתעלם ממצבים שבהם כל אדם מקבל רק חתיכת סושי אחת. זה נשמע לי עצוב.<br>\n",
    "    נגדיר \"מנה מושלמת לחלוקה\" כמנה שאם נסכום את כל הצורות לחלק אותה, נקבל את גודל המנה עצמה.\n",
    "</p>"
   ]
  },
  {
   "cell_type": "markdown",
   "metadata": {},
   "source": [
    "<p style=\"text-align: right; direction: rtl; float: right; clear: both;\">\n",
    "    לדוגמה:\n",
    "</p>\n",
    "\n",
    "<ul style=\"text-align: right; direction: rtl; float: right; clear: both;\">\n",
    "    <li>רול סושי בעל 6 יחידות הוא מנה מושלמת לחלוקה, כיוון שאפשר לחלק אותו לאדם 1, ל־2 אנשים או ל־3 אנשים. $1+2+3=6$.</li>\n",
    "    <li>רול סושי בעל 8 יחידות הוא לא מנה מושלמת לחלוקה, כי אפשר לחלק אותו לאדם 1, ל־2 אנשים או ל־4 אנשים. $1+2+4 \\neq 8$.</li>\n",
    "    <li>רול בעל 12 יחידות גם הוא לא מנה מושלמת לחלוקה – $1 + 2 + 3 + 4 + 6 \\neq 12$.</li>\n",
    "    <li>רול בעל 28 יחידות הוא בהחלט מנה מושלמת לחלוקה – $1 + 2 + 4 + 7 + 14 = 28$.</li>\n",
    "</ul>"
   ]
  },
  {
   "cell_type": "markdown",
   "metadata": {},
   "source": [
    "<p style=\"text-align: right; direction: rtl; float: right; clear: both;\">\n",
    "    כתבו תוכנית שמדפיסה באופן אין־סופי את כל גודלי המנות שנחשבים מושלמים לחלוקה.\n",
    "</p>"
   ]
  },
  {
   "cell_type": "markdown",
   "metadata": {},
   "source": [
    "### <span style=\"text-align: right; direction: rtl; float: right; clear: both;\">לחששנית</span>"
   ]
  },
  {
   "cell_type": "markdown",
   "metadata": {},
   "source": [
    "<p style=\"text-align: right; direction: rtl; float: right; clear: both;\">\n",
    "    בקובץ resources/logo.jpg מופיע לוגו הקורס, ובתוכו מוכמנים מסרים סודיים אחדים.<br>\n",
    "    המסרים הם מחרוזות באורך 5 אותיות לפחות, כתובים באותיות אנגליות קטנות בלבד ומסתיימים בסימן קריאה.\n",
    "</p>\n",
    "\n",
    "<p style=\"text-align: right; direction: rtl; float: right; clear: both;\">\n",
    "    פתחו את הלוגו לקריאה בתצורה בינארית, וחלצו ממנו את המסרים הסודיים.<br>\n",
    "    זכרו שהקובץ עלול להיות גדול מאוד, ועדיף שלא לקרוא את כולו במכה אחת.<br>\n",
    "    מצאו באינטרנט עזרה בנוגע לפתיחת קבצים בצורה בינארית ולקריאה מדורגת של הקובץ.<br>\n",
    "    הקפידו שלא להשתמש בטכניקות שלא למדנו (או להוסיף אותן רק בנוסף לפתרון שכזה).\n",
    "</p>"
   ]
  }
 ],
 "metadata": {
  "kernelspec": {
   "display_name": "Python 3 (ipykernel)",
   "language": "python",
   "name": "python3"
  },
  "language_info": {
   "codemirror_mode": {
    "name": "ipython",
    "version": 3
   },
   "file_extension": ".py",
   "mimetype": "text/x-python",
   "name": "python",
   "nbconvert_exporter": "python",
   "pygments_lexer": "ipython3",
   "version": "3.9.7"
  }
 },
 "nbformat": 4,
 "nbformat_minor": 4
}
